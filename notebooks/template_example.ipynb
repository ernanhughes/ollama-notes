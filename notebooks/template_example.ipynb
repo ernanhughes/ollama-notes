{
 "cells": [
  {
   "cell_type": "code",
   "execution_count": 1,
   "metadata": {},
   "outputs": [
    {
     "name": "stdout",
     "output_type": "stream",
     "text": [
      "Generating a sample user\n",
      "{\n",
      "  \"firstName\": \"Maybell\",\n",
      "  \"lastName\": \"Beattle\",\n",
      "  \"address\": {\n",
      "    \"street\": \"17125 Saint Louis View\",\n",
      "    \"city\": \"Parral\",\n",
      "    \"state\": \"NM\",\n",
      "    \"zipCode\": \"75608\"\n",
      "  },\n",
      "  \"phoneNumber\": \"6068782154\"\n",
      "}\n"
     ]
    }
   ],
   "source": [
    "import requests\n",
    "import json\n",
    "import random\n",
    "\n",
    "model = \"llama3.1\"\n",
    "template = {\n",
    "  \"firstName\": \"\",\n",
    "  \"lastName\": \"\",\n",
    "  \"address\": {\n",
    "    \"street\": \"\",\n",
    "    \"city\": \"\",\n",
    "    \"state\": \"\",\n",
    "    \"zipCode\": \"\"\n",
    "  },\n",
    "  \"phoneNumber\": \"\"\n",
    "}\n",
    "\n",
    "prompt = f\"generate one realistically believable sample data set of a persons first name, last name, address in the US, and  phone number. \\nUse the following template: {json.dumps(template)}.\"\n",
    "\n",
    "data = {\n",
    "    \"prompt\": prompt,\n",
    "    \"model\": model,\n",
    "    \"format\": \"json\",\n",
    "    \"stream\": False,\n",
    "    \"options\": {\"temperature\": 2.5, \"top_p\": 0.99, \"top_k\": 100},\n",
    "}\n",
    "\n",
    "print(f\"Generating a sample user\")\n",
    "response = requests.post(\"http://localhost:11434/api/generate\", json=data, stream=False)\n",
    "json_data = json.loads(response.text)\n",
    "print(json.dumps(json.loads(json_data[\"response\"]), indent=2))"
   ]
  }
 ],
 "metadata": {
  "kernelspec": {
   "display_name": ".venv",
   "language": "python",
   "name": "python3"
  },
  "language_info": {
   "codemirror_mode": {
    "name": "ipython",
    "version": 3
   },
   "file_extension": ".py",
   "mimetype": "text/x-python",
   "name": "python",
   "nbconvert_exporter": "python",
   "pygments_lexer": "ipython3",
   "version": "3.11.9"
  }
 },
 "nbformat": 4,
 "nbformat_minor": 2
}
