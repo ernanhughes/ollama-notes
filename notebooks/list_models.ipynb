{
 "cells": [
  {
   "cell_type": "markdown",
   "metadata": {},
   "source": [
    "<a href=\"https://colab.research.google.com/github/ernanhughes/ollama-notes/blob/main/notebooks/list_models.ipynb\" target=\"_parent\"><img src=\"https://colab.research.google.com/assets/colab-badge.svg\" alt=\"Open In Colab\"/></a>"
   ]
  },
  {
   "cell_type": "markdown",
   "metadata": {},
   "source": []
  },
  {
   "cell_type": "markdown",
   "metadata": {},
   "source": [
    "# List Ollama Models\n",
    "\n",
    "This notebook show different ways to list the ollama installed models"
   ]
  },
  {
   "cell_type": "markdown",
   "metadata": {},
   "source": [
    "# Using the console"
   ]
  },
  {
   "cell_type": "code",
   "execution_count": 3,
   "metadata": {},
   "outputs": [
    {
     "name": "stdout",
     "output_type": "stream",
     "text": [
      "Installed Ollama Models:\n",
      "NAME                                           ID              SIZE      MODIFIED     \n",
      "mistral-small:latest                           d095cd553b04    12 GB     4 days ago      \n",
      "phi:latest                                     e2fd6321a5fe    1.6 GB    4 days ago      \n",
      "llama3.2:latest                                a80c4f17acd5    2.0 GB    4 days ago      \n",
      "codellama:latest                               8fdf8f752f6e    3.8 GB    4 days ago      \n",
      "nomic-embed-text:latest                        0a109f422b47    274 MB    2 weeks ago     \n",
      "hf.co/arcee-ai/SuperNova-Medius-GGUF:latest    f0dba3ac932b    9.0 GB    2 weeks ago     \n",
      "phi3:latest                                    4f2222927938    2.2 GB    4 weeks ago     \n",
      "llama3.1:8b-instruct-fp16                      4aacac419454    16 GB     7 weeks ago     \n",
      "mxbai-embed-large:latest                       468836162de7    669 MB    7 weeks ago     \n",
      "mistral:latest                                 f974a74358d6    4.1 GB    7 weeks ago     \n",
      "llama3.1:latest                                91ab477bec9d    4.7 GB    2 months ago\n"
     ]
    }
   ],
   "source": [
    "import subprocess\n",
    "import json\n",
    "\n",
    "def list_ollama_models():\n",
    "    try:\n",
    "        # Run the 'ollama list' command to get the list of models\n",
    "        result = subprocess.run(['ollama', 'list'], capture_output=True, text=True)\n",
    "        \n",
    "        # Check if the command was successful\n",
    "        if result.returncode == 0:\n",
    "            # Parse the output (assuming it's in JSON format)\n",
    "            models_output = result.stdout.strip()\n",
    "            \n",
    "            # If the output is in JSON format\n",
    "            try:\n",
    "                models = json.loads(models_output)\n",
    "                print(\"Installed Ollama Models:\")\n",
    "                for model in models:\n",
    "                    print(f\"- {model['name']} (Version: {model['version']})\")\n",
    "            except json.JSONDecodeError:\n",
    "                # If it's not JSON, just print the raw output\n",
    "                print(\"Installed Ollama Models:\")\n",
    "                print(models_output)\n",
    "        else:\n",
    "            print(\"Error listing Ollama models. Please ensure Ollama is installed and running correctly.\")\n",
    "            print(\"Error message:\", result.stderr)\n",
    "    \n",
    "    except FileNotFoundError:\n",
    "        print(\"Ollama command not found. Please ensure Ollama is installed and in your system's PATH.\")\n",
    "\n",
    "# Call the function\n",
    "list_ollama_models()\n"
   ]
  },
  {
   "cell_type": "markdown",
   "metadata": {},
   "source": [
    "# Using the requests api"
   ]
  },
  {
   "cell_type": "code",
   "execution_count": 5,
   "metadata": {},
   "outputs": [
    {
     "name": "stdout",
     "output_type": "stream",
     "text": [
      "Installed Ollama Models:\n",
      "| mistral-small:latest | mistral-small:latest |\n",
      "| phi:latest | phi:latest |\n",
      "| llama3.2:latest | llama3.2:latest |\n",
      "| codellama:latest | codellama:latest |\n",
      "| nomic-embed-text:latest | nomic-embed-text:latest |\n",
      "| hf.co/arcee-ai/SuperNova-Medius-GGUF:latest | hf.co/arcee-ai/SuperNova-Medius-GGUF:latest |\n",
      "| phi3:latest | phi3:latest |\n",
      "| llama3.1:8b-instruct-fp16 | llama3.1:8b-instruct-fp16 |\n",
      "| mxbai-embed-large:latest | mxbai-embed-large:latest |\n",
      "| mistral:latest | mistral:latest |\n",
      "| llama3.1:latest | llama3.1:latest |\n",
      "None\n"
     ]
    }
   ],
   "source": [
    "import requests\n",
    "import json\n",
    "\n",
    "OLLAMA_BASE_URL = \"http://localhost:11434\"\n",
    "\n",
    "def filter_response(json_data: str, filter_keys: list[str]):\n",
    "    for model in json_data:\n",
    "        print(f\"| {model['name']} | {model['model']} |\")\n",
    "    \n",
    "def list_ollama_models():\n",
    "    \"\"\"List installed models from the Ollama server.\"\"\"\n",
    "    try:\n",
    "        url = f\"{OLLAMA_BASE_URL}/api/tags\"\n",
    "        response = requests.get(url)\n",
    "        if response.status_code == 200:\n",
    "            print(\"Installed Ollama Models:\")\n",
    "            filtered_models = filter_response(response.json()[\"models\"], ['name', 'tags'])\n",
    "            print(filtered_models)\n",
    "            return filtered_models\n",
    "        else:\n",
    "            print(f\"Failed to retrieve models. Status code: {response.status_code}\")\n",
    "            print(\"Response:\", response.text)\n",
    "            return []\n",
    "    except requests.ConnectionError:\n",
    "        print(\"Failed to connect to the Ollama server. Make sure it is running locally and the URL is correct.\")\n",
    "        return []\n",
    "    except json.JSONDecodeError:\n",
    "        print(\"Failed to parse JSON response from Ollama server.\")\n",
    "        return []\n",
    "    except Exception as e:\n",
    "        print(f\"An error occurred: {e}\")\n",
    "        return []\n",
    "\n",
    "list_ollama_models()"
   ]
  },
  {
   "cell_type": "markdown",
   "metadata": {},
   "source": [
    "## "
   ]
  },
  {
   "cell_type": "code",
   "execution_count": null,
   "metadata": {},
   "outputs": [],
   "source": []
  }
 ],
 "metadata": {
  "kernelspec": {
   "display_name": ".env",
   "language": "python",
   "name": "python3"
  },
  "language_info": {
   "codemirror_mode": {
    "name": "ipython",
    "version": 3
   },
   "file_extension": ".py",
   "mimetype": "text/x-python",
   "name": "python",
   "nbconvert_exporter": "python",
   "pygments_lexer": "ipython3",
   "version": "3.11.9"
  }
 },
 "nbformat": 4,
 "nbformat_minor": 2
}
