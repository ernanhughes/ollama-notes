{
 "cells": [
  {
   "cell_type": "code",
   "execution_count": null,
   "metadata": {},
   "outputs": [],
   "source": []
  },
  {
   "cell_type": "markdown",
   "metadata": {},
   "source": [
    "<a href=\"https://colab.research.google.com/github/ernanhughes/ollama-notes/blob/main/chat.ipynb\" target=\"_parent\"><img src=\"https://colab.research.google.com/assets/colab-badge.svg\" alt=\"Open In Colab\"/></a>"
   ]
  },
  {
   "cell_type": "code",
   "execution_count": 3,
   "metadata": {},
   "outputs": [
    {
     "name": "stdout",
     "output_type": "stream",
     "text": [
      "The capital of Ireland is Dublin.\n",
      "The capital of England is London. (Note: In the United Kingdom, \"England\" refers to a country that makes up part of the union with Scotland, Wales, and Northern Ireland. The UK has its own government and capital, which is also London.)\n",
      "The capital of Wales is Cardiff.\n",
      "The capital of Scotland is Edinburgh.\n"
     ]
    }
   ],
   "source": [
    "import ollama\n",
    "prompt1 = 'What is the capital of Ireland?'\n",
    "response = ollama.chat(model='llama3.1', messages=[\n",
    "            {'role': 'user','content': prompt1,},])\n",
    "r1 = response['message']['content']\n",
    "print(r1)\n",
    "\n",
    "prompt2 = 'and of England?'\n",
    "response = ollama.chat(model='llama3.1', messages=[\n",
    "            {'role': 'user','content': prompt1,},\n",
    "            {'role': 'assistant','content': r1,},            \n",
    "            {'role': 'user','content': prompt2,},])\n",
    "r2 = response['message']['content']\n",
    "print(r2)\n",
    "\n",
    "\n",
    "prompt3 = 'and of Wales?'\n",
    "response = ollama.chat(model='llama3.1', messages=[\n",
    "            {'role': 'user','content': prompt1,},\n",
    "            {'role': 'assistant','content': r1,},            \n",
    "            {'role': 'user','content': prompt2,},\n",
    "            {'role': 'assistant','content': r2,},            \n",
    "            {'role': 'user','content': prompt3,},])\n",
    "r3 = response['message']['content']\n",
    "print(r3)\n",
    "\n",
    "\n",
    "prompt4 = 'and of Scotland?'\n",
    "response = ollama.chat(model='llama3.1', messages=[\n",
    "            {'role': 'user','content': prompt1,},\n",
    "            {'role': 'assistant','content': r1,},            \n",
    "            {'role': 'user','content': prompt2,},\n",
    "            {'role': 'assistant','content': r2,},            \n",
    "            {'role': 'user','content': prompt3,},\n",
    "            {'role': 'assistant','content': r3,},            \n",
    "            {'role': 'user','content': prompt4,},\n",
    "            ])\n",
    "r4 = response['message']['content']\n",
    "print(r4)\n",
    "\n",
    "\n"
   ]
  },
  {
   "cell_type": "code",
   "execution_count": 4,
   "metadata": {},
   "outputs": [
    {
     "name": "stdout",
     "output_type": "stream",
     "text": [
      "Large Language Models (LLMs) like myself have the potential to significantly improve human life in various ways. Here are some examples:\n",
      "\n",
      "1. **Accessibility and Inclusivity**:\n",
      "\t* Provide equal access to information for people with disabilities, language barriers, or living in remote areas.\n",
      "\t* Enable those who struggle with reading and writing due to literacy issues or cognitive impairments.\n",
      "2. **Education and Learning**:\n",
      "\t* Offer personalized learning experiences through tailored content, interactive simulations, and real-time feedback.\n",
      "\t* Supplement human teachers by providing instant answers to questions, freeing up instructors for more complex, high-touch tasks.\n",
      "3. **Healthcare and Wellness**:\n",
      "\t* Assist in disease diagnosis and treatment planning through natural language processing (NLP) and machine learning (ML) analysis of medical texts and patient data.\n",
      "\t* Provide personalized health advice, nutrition guidance, and emotional support to individuals, promoting healthy habits and well-being.\n",
      "4. **Communication and Social Skills**:\n",
      "\t* Help people with autism, ADHD, or social anxiety disorders communicate more effectively through text-based chatbots and language processing tools.\n",
      "\t* Facilitate language learning for non-native speakers by offering interactive lessons, grammar guidance, and conversational practice.\n",
      "5. **Creativity and Entertainment**:\n",
      "\t* Collaborate with artists, writers, and musicians to generate new ideas, lyrics, or stories, helping them overcome creative blocks.\n",
      "\t* Offer virtual companionship through engaging conversations, games, and activities for people with disabilities or social isolation.\n",
      "6. **Productivity and Workforce Support**:\n",
      "\t* Assist professionals in tasks like email management, data analysis, and document preparation, freeing up time for more strategic work.\n",
      "\t* Provide workers with job search support, resume building, and interview coaching to enhance employment prospects.\n",
      "7. **Environmental Sustainability**:\n",
      "\t* Help optimize resource consumption and reduce waste by providing insights on sustainable practices, energy efficiency, and eco-friendly product suggestions.\n",
      "8. **Disaster Response and Recovery**:\n",
      "\t* Assist emergency responders in critical situations by processing language data from affected areas, helping prioritize aid and resources.\n",
      "9. **Scientific Research and Discovery**:\n",
      "\t* Support researchers by analyzing vast amounts of text-based data, identifying patterns, and suggesting new research directions.\n",
      "10. **Personalized Recommendations**:\n",
      "\t* Offer tailored suggestions for movies, books, music, travel destinations, and other leisure activities based on individual preferences.\n",
      "\n",
      "These examples demonstrate the potential of LLMs to positively impact human life across various domains. As these models continue to evolve, we can expect even more innovative applications that bring people closer together, improve our well-being, and make the world a better place."
     ]
    }
   ],
   "source": [
    "import ollama\n",
    "prompt = 'How can LLMs improve human life?'\n",
    "stream = ollama.chat(model='llama3.1',\n",
    "          messages=[{'role': 'user', 'content': prompt}],\n",
    "          stream=True,)\n",
    "for chunk in stream:\n",
    "  print(chunk['message']['content'], end='', flush=True)\n"
   ]
  }
 ],
 "metadata": {
  "kernelspec": {
   "display_name": ".env",
   "language": "python",
   "name": "python3"
  },
  "language_info": {
   "codemirror_mode": {
    "name": "ipython",
    "version": 3
   },
   "file_extension": ".py",
   "mimetype": "text/x-python",
   "name": "python",
   "nbconvert_exporter": "python",
   "pygments_lexer": "ipython3",
   "version": "3.11.9"
  }
 },
 "nbformat": 4,
 "nbformat_minor": 2
}
