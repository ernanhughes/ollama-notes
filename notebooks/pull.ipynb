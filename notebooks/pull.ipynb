{
 "cells": [
  {
   "cell_type": "code",
   "execution_count": 2,
   "metadata": {},
   "outputs": [
    {
     "name": "stdout",
     "output_type": "stream",
     "text": [
      "Failed to retrieve models. Status code: 404\n",
      "Response: 404 page not found\n",
      "Model 'phi' pulled successfully.\n"
     ]
    }
   ],
   "source": [
    "import requests\n",
    "import json\n",
    "\n",
    "# Define the base URL for the Ollama local server\n",
    "OLLAMA_BASE_URL = \"http://localhost:11434\"\n",
    "\n",
    "def list_ollama_models():\n",
    "    \"\"\"List installed models from the Ollama server.\"\"\"\n",
    "    try:\n",
    "        # Send a GET request to retrieve the list of installed models\n",
    "        url = f\"{OLLAMA_BASE_URL}/models\"\n",
    "        response = requests.get(url)\n",
    "        \n",
    "        # Check if the request was successful\n",
    "        if response.status_code == 200:\n",
    "            # Parse the JSON response\n",
    "            models = response.json()\n",
    "            print(\"Installed Ollama Models:\")\n",
    "            for model in models:\n",
    "                print(f\"- {model['name']} (Version: {model['version']})\")\n",
    "            return models\n",
    "        else:\n",
    "            print(f\"Failed to retrieve models. Status code: {response.status_code}\")\n",
    "            print(\"Response:\", response.text)\n",
    "            return []\n",
    "    \n",
    "    except requests.ConnectionError:\n",
    "        print(\"Failed to connect to the Ollama server. Make sure it is running locally and the URL is correct.\")\n",
    "        return []\n",
    "    except json.JSONDecodeError:\n",
    "        print(\"Failed to parse JSON response from Ollama server.\")\n",
    "        return []\n",
    "    except Exception as e:\n",
    "        print(f\"An error occurred: {e}\")\n",
    "        return []\n",
    "\n",
    "def pull_model(model_name):\n",
    "    \"\"\"Pull a model from the Ollama server.\"\"\"\n",
    "    try:\n",
    "        # Assuming the API has an endpoint to pull/download models\n",
    "        url = f\"{OLLAMA_BASE_URL}/api/pull\"\n",
    "        \n",
    "        # Send a POST request to pull the model\n",
    "        response = requests.post(url, json={\"name\": model_name})\n",
    "        \n",
    "        # Check if the request was successful\n",
    "        if response.status_code == 200:\n",
    "            print(f\"Model '{model_name}' pulled successfully.\")\n",
    "        else:\n",
    "            print(f\"Failed to pull model '{model_name}'. Status code: {response.status_code}\")\n",
    "            print(\"Response:\", response.text)\n",
    "    \n",
    "    except requests.ConnectionError:\n",
    "        print(f\"Failed to connect to the Ollama server to pull model '{model_name}'.\")\n",
    "    except Exception as e:\n",
    "        print(f\"An error occurred while pulling the model '{model_name}': {e}\")\n",
    "\n",
    "models = list_ollama_models()\n",
    "\n",
    "# If models are found, attempt to pull a specific model (e.g., 'model1')\n",
    "pull_model(\"phi\")\n",
    "\n"
   ]
  }
 ],
 "metadata": {
  "kernelspec": {
   "display_name": ".venv",
   "language": "python",
   "name": "python3"
  },
  "language_info": {
   "codemirror_mode": {
    "name": "ipython",
    "version": 3
   },
   "file_extension": ".py",
   "mimetype": "text/x-python",
   "name": "python",
   "nbconvert_exporter": "python",
   "pygments_lexer": "ipython3",
   "version": "3.11.9"
  }
 },
 "nbformat": 4,
 "nbformat_minor": 2
}
