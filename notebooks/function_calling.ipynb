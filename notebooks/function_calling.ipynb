{
 "cells": [
  {
   "cell_type": "markdown",
   "metadata": {},
   "source": [
    "<a href=\"https://colab.research.google.com/github/ernanhughes/ollama-notes/blob/main/function_calling.ipynb\" target=\"_parent\"><img src=\"https://colab.research.google.com/assets/colab-badge.svg\" alt=\"Open In Colab\"/></a>"
   ]
  },
  {
   "cell_type": "code",
   "execution_count": 4,
   "metadata": {},
   "outputs": [
    {
     "name": "stdout",
     "output_type": "stream",
     "text": [
      "Collecting haversine\n",
      "  Downloading haversine-2.8.1-py2.py3-none-any.whl.metadata (5.9 kB)\n",
      "Downloading haversine-2.8.1-py2.py3-none-any.whl (7.7 kB)\n",
      "Installing collected packages: haversine\n",
      "Successfully installed haversine-2.8.1\n",
      "Note: you may need to restart the kernel to use updated packages.\n"
     ]
    }
   ],
   "source": [
    "%pip install haversine"
   ]
  },
  {
   "cell_type": "code",
   "execution_count": null,
   "metadata": {},
   "outputs": [],
   "source": [
    "schema = {\n",
    "  \"city\": {\n",
    "    \"type\": \"string\", \n",
    "    \"description\": \"Name of the city\"\n",
    "  }, \n",
    "  \"lat\": {\n",
    "    \"type\": \"float\", \n",
    "    \"description\": \"Decimal Latitude of the city\"\n",
    "  }, \n",
    "  \"lon\": {\n",
    "    \"type\": \"float\", \n",
    "    \"description\": \"Decimal longitude of the city\"\n",
    "  }\n",
    "}\n"
   ]
  },
  {
   "cell_type": "code",
   "execution_count": 6,
   "metadata": {},
   "outputs": [
    {
     "name": "stdout",
     "output_type": "stream",
     "text": [
      "{'model': 'llama3.2', 'created_at': '2024-11-06T12:08:52.7030397Z', 'message': {'role': 'assistant', 'content': '{\"city\": \"Dublin\", \"lat\": 53.3478, \"lon\": -6.2599}'}, 'done_reason': 'stop', 'done': True, 'total_duration': 545206400, 'load_duration': 12438200, 'prompt_eval_count': 160, 'prompt_eval_duration': 100142000, 'eval_count': 26, 'eval_duration': 429815000}\n",
      "Bainbridge Island is about 520 miles away from Dublin\n"
     ]
    }
   ],
   "source": [
    "import requests\n",
    "import json\n",
    "import sys\n",
    "from haversine import haversine\n",
    "\n",
    "country = \"Ireland\"\n",
    "mylat = 53.3498\n",
    "mylon = 6.2603\n",
    "\n",
    "payload = {\n",
    "  \"model\": \"llama3.2\", \n",
    "  \"messages\": [\n",
    "    {\"role\": \"system\", \"content\": f\"You are a helpful AI assistant. The user will enter a country name and the assistant will return the decimal latitude and decimal longitude of the capital of the country. Output in JSON using the schema defined here: {schema}.\"}, \n",
    "    {\"role\": \"user\", \"content\": \"France\"}, \n",
    "    {\"role\": \"assistant\", \"content\": \"{\\\"city\\\": \\\"Paris\\\", \\\"lat\\\": 48.8566, \\\"lon\\\": 2.3522}\"}, \n",
    "    {\"role\": \"user\", \"content\": country}\n",
    "  ], \n",
    "  \"options\": {\n",
    "    \"temperature\": 0.0\n",
    "  }, \n",
    "  \"format\": \"json\", \n",
    "  \"stream\": False\n",
    "}\n",
    "\n",
    "response = requests.post(\"http://localhost:11434/api/chat\", json=payload)\n",
    "print(response.json())\n",
    "\n",
    "cityinfo = json.loads(response.json()[\"message\"][\"content\"])\n",
    "\n",
    "distance = haversine((mylat, mylon), (cityinfo['lat'], cityinfo['lon']), unit='mi')\n",
    "\n",
    "print(f\"Bainbridge Island is about {int(round(distance, -1))} miles away from {cityinfo['city']}\")"
   ]
  },
  {
   "cell_type": "code",
   "execution_count": null,
   "metadata": {},
   "outputs": [],
   "source": []
  }
 ],
 "metadata": {
  "kernelspec": {
   "display_name": ".env",
   "language": "python",
   "name": "python3"
  },
  "language_info": {
   "codemirror_mode": {
    "name": "ipython",
    "version": 3
   },
   "file_extension": ".py",
   "mimetype": "text/x-python",
   "name": "python",
   "nbconvert_exporter": "python",
   "pygments_lexer": "ipython3",
   "version": "3.11.9"
  }
 },
 "nbformat": 4,
 "nbformat_minor": 2
}
